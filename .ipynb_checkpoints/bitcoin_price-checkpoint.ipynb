{
 "cells": [
  {
   "cell_type": "code",
   "execution_count": 1,
   "id": "840ba24f-be1c-4fb0-8ffa-ec5f5156ea47",
   "metadata": {},
   "outputs": [],
   "source": [
    "import mwclient as mw\n",
    "import time"
   ]
  },
  {
   "cell_type": "code",
   "execution_count": 3,
   "id": "1cbbdd6f-47de-4654-aae5-823954d29f49",
   "metadata": {},
   "outputs": [],
   "source": [
    "site = mw.Site(\"en.wikipedia.org\")\n",
    "page = site.pages['Bitcoin']"
   ]
  },
  {
   "cell_type": "code",
   "execution_count": 8,
   "id": "9071ad3e-9e45-4002-bdc9-d8fc13e72ef3",
   "metadata": {},
   "outputs": [],
   "source": [
    "rev = list(page.revisions())"
   ]
  },
  {
   "cell_type": "code",
   "execution_count": 9,
   "id": "180ec6a1-fa02-4c1d-800b-d6cf03a24bfc",
   "metadata": {},
   "outputs": [
    {
     "data": {
      "text/plain": [
       "OrderedDict([('revid', 1254525564),\n",
       "             ('parentid', 1254525362),\n",
       "             ('user', 'A455bcd9'),\n",
       "             ('timestamp',\n",
       "              time.struct_time(tm_year=2024, tm_mon=10, tm_mday=31, tm_hour=12, tm_min=27, tm_sec=56, tm_wday=3, tm_yday=305, tm_isdst=-1)),\n",
       "             ('comment',\n",
       "              '/* 2008–2009: Creation */ Per the source: \"Moreover, Nakamoto didn\\'t care for academic peer review and didn\\'t fully connect it to its history. As a result, academics essentially ignored bitcoin for several years. Many academic communities informally argued that Bitcoin couldn\\'t work, based on theoretical models or experiences with past systems, despite the fact that it was working in practice.\"')])"
      ]
     },
     "execution_count": 9,
     "metadata": {},
     "output_type": "execute_result"
    }
   ],
   "source": [
    "rev[0]"
   ]
  },
  {
   "cell_type": "code",
   "execution_count": 10,
   "id": "3625d1a3-20b3-4e77-ac2e-f40cdc3a39fd",
   "metadata": {},
   "outputs": [],
   "source": [
    "revs = sorted(rev, key=lambda x: x[\"timestamp\"])"
   ]
  },
  {
   "cell_type": "code",
   "execution_count": 11,
   "id": "907b5583-f042-4f11-8832-ca4ae34d686b",
   "metadata": {},
   "outputs": [
    {
     "data": {
      "text/plain": [
       "OrderedDict([('revid', 275832581),\n",
       "             ('parentid', 0),\n",
       "             ('user', 'Pratyeka'),\n",
       "             ('timestamp',\n",
       "              time.struct_time(tm_year=2009, tm_mon=3, tm_mday=8, tm_hour=16, tm_min=41, tm_sec=7, tm_wday=6, tm_yday=67, tm_isdst=-1)),\n",
       "             ('comment', 'creation (stub)')])"
      ]
     },
     "execution_count": 11,
     "metadata": {},
     "output_type": "execute_result"
    }
   ],
   "source": [
    "revs[0]"
   ]
  },
  {
   "cell_type": "code",
   "execution_count": 12,
   "id": "7e1a85af-d683-4677-b437-dec7136fcc9c",
   "metadata": {},
   "outputs": [
    {
     "data": {
      "text/plain": [
       "17924"
      ]
     },
     "execution_count": 12,
     "metadata": {},
     "output_type": "execute_result"
    }
   ],
   "source": [
    "len(revs)"
   ]
  },
  {
   "cell_type": "code",
   "execution_count": null,
   "id": "59f3812f-b8bb-413a-855a-2c14e280796d",
   "metadata": {},
   "outputs": [
    {
     "name": "stderr",
     "output_type": "stream",
     "text": [
      "C:\\Users\\Hp Pc\\AppData\\Local\\Programs\\Python\\Python311\\Lib\\site-packages\\transformers\\utils\\generic.py:441: FutureWarning: `torch.utils._pytree._register_pytree_node` is deprecated. Please use `torch.utils._pytree.register_pytree_node` instead.\n",
      "  _torch_pytree._register_pytree_node(\n",
      "C:\\Users\\Hp Pc\\AppData\\Local\\Programs\\Python\\Python311\\Lib\\site-packages\\transformers\\utils\\generic.py:309: FutureWarning: `torch.utils._pytree._register_pytree_node` is deprecated. Please use `torch.utils._pytree.register_pytree_node` instead.\n",
      "  _torch_pytree._register_pytree_node(\n",
      "No model was supplied, defaulted to distilbert-base-uncased-finetuned-sst-2-english and revision af0f99b (https://huggingface.co/distilbert-base-uncased-finetuned-sst-2-english).\n",
      "Using a pipeline without specifying a model name and revision in production is not recommended.\n",
      "C:\\Users\\Hp Pc\\AppData\\Local\\Programs\\Python\\Python311\\Lib\\site-packages\\huggingface_hub\\file_download.py:1142: FutureWarning: `resume_download` is deprecated and will be removed in version 1.0.0. Downloads always resume when possible. If you want to force a new download, use `force_download=True`.\n",
      "  warnings.warn(\n"
     ]
    },
    {
     "data": {
      "application/vnd.jupyter.widget-view+json": {
       "model_id": "7861b0a117214752a4ab8971cc16b7e8",
       "version_major": 2,
       "version_minor": 0
      },
      "text/plain": [
       "config.json:   0%|          | 0.00/629 [00:00<?, ?B/s]"
      ]
     },
     "metadata": {},
     "output_type": "display_data"
    },
    {
     "data": {
      "application/vnd.jupyter.widget-view+json": {
       "model_id": "4e829b0f457c492f9241dbeeb62962e2",
       "version_major": 2,
       "version_minor": 0
      },
      "text/plain": [
       "model.safetensors:   0%|          | 0.00/268M [00:00<?, ?B/s]"
      ]
     },
     "metadata": {},
     "output_type": "display_data"
    }
   ],
   "source": [
    "from transformers import pipeline\n",
    "\n",
    "sentiment_pipeline = pipeline(\"sentiment-analysis\")"
   ]
  },
  {
   "cell_type": "code",
   "execution_count": null,
   "id": "b7ff8eda-b5f9-4d9f-9943-74db6d16ccbb",
   "metadata": {},
   "outputs": [],
   "source": []
  }
 ],
 "metadata": {
  "kernelspec": {
   "display_name": "Python 3 (ipykernel)",
   "language": "python",
   "name": "python3"
  },
  "language_info": {
   "codemirror_mode": {
    "name": "ipython",
    "version": 3
   },
   "file_extension": ".py",
   "mimetype": "text/x-python",
   "name": "python",
   "nbconvert_exporter": "python",
   "pygments_lexer": "ipython3",
   "version": "3.11.2"
  }
 },
 "nbformat": 4,
 "nbformat_minor": 5
}
