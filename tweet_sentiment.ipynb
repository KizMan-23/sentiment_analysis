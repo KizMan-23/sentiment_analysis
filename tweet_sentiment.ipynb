{
 "cells": [
  {
   "cell_type": "code",
   "execution_count": 1,
   "id": "d11b47de-8d52-4856-a6ef-9ebd15bf2181",
   "metadata": {},
   "outputs": [],
   "source": [
    "import pandas as pd\n",
    "import seaborn as sns\n",
    "import matplotlib.pyplot as plt\n",
    "import regex as re"
   ]
  },
  {
   "cell_type": "raw",
   "id": "ffe2aafd-bd28-4748-a274-34c5e71f186a",
   "metadata": {},
   "source": [
    "Available pre-trained models for sentiment analysis\n",
    "\n",
    "1. VADERS from NLTK\n",
    "2. Transformer models from Hugging Face: Roberta-model\n",
    "3. Transfomer pipeline"
   ]
  },
  {
   "cell_type": "code",
   "execution_count": 2,
   "id": "7b2ebf75-9936-4dc3-baa3-7326b20ca719",
   "metadata": {},
   "outputs": [],
   "source": [
    "tweet_data = pd.read_csv(\"C:/Users/Hp Pc/Downloads/sentiment-emotion-labelled_Dell_tweets.csv\")\n",
    "tweet_test = pd.read_csv(\"C:/Users/Hp Pc/Downloads/testdata.manual.2009.06.14.csv\")"
   ]
  },
  {
   "cell_type": "code",
   "execution_count": 3,
   "id": "33ece1ac-9b45-42af-a260-b5de74d402b4",
   "metadata": {},
   "outputs": [
    {
     "data": {
      "text/html": [
       "<div>\n",
       "<style scoped>\n",
       "    .dataframe tbody tr th:only-of-type {\n",
       "        vertical-align: middle;\n",
       "    }\n",
       "\n",
       "    .dataframe tbody tr th {\n",
       "        vertical-align: top;\n",
       "    }\n",
       "\n",
       "    .dataframe thead th {\n",
       "        text-align: right;\n",
       "    }\n",
       "</style>\n",
       "<table border=\"1\" class=\"dataframe\">\n",
       "  <thead>\n",
       "    <tr style=\"text-align: right;\">\n",
       "      <th></th>\n",
       "      <th>Unnamed: 0</th>\n",
       "      <th>Datetime</th>\n",
       "      <th>Tweet Id</th>\n",
       "      <th>Text</th>\n",
       "      <th>Username</th>\n",
       "      <th>sentiment</th>\n",
       "      <th>sentiment_score</th>\n",
       "      <th>emotion</th>\n",
       "      <th>emotion_score</th>\n",
       "    </tr>\n",
       "  </thead>\n",
       "  <tbody>\n",
       "    <tr>\n",
       "      <th>0</th>\n",
       "      <td>0</td>\n",
       "      <td>2022-09-30 23:29:15+00:00</td>\n",
       "      <td>1575991191170342912</td>\n",
       "      <td>@Logitech @apple @Google @Microsoft @Dell @Len...</td>\n",
       "      <td>ManjuSreedaran</td>\n",
       "      <td>neutral</td>\n",
       "      <td>0.853283</td>\n",
       "      <td>anticipation</td>\n",
       "      <td>0.587121</td>\n",
       "    </tr>\n",
       "    <tr>\n",
       "      <th>1</th>\n",
       "      <td>1</td>\n",
       "      <td>2022-09-30 21:46:35+00:00</td>\n",
       "      <td>1575965354425131008</td>\n",
       "      <td>@MK_habit_addict @official_stier @MortalKombat...</td>\n",
       "      <td>MiKeMcDnet</td>\n",
       "      <td>neutral</td>\n",
       "      <td>0.519470</td>\n",
       "      <td>joy</td>\n",
       "      <td>0.886913</td>\n",
       "    </tr>\n",
       "    <tr>\n",
       "      <th>2</th>\n",
       "      <td>2</td>\n",
       "      <td>2022-09-30 21:18:02+00:00</td>\n",
       "      <td>1575958171423752203</td>\n",
       "      <td>As @CRN celebrates its 40th anniversary, Bob F...</td>\n",
       "      <td>jfollett</td>\n",
       "      <td>positive</td>\n",
       "      <td>0.763791</td>\n",
       "      <td>joy</td>\n",
       "      <td>0.960347</td>\n",
       "    </tr>\n",
       "    <tr>\n",
       "      <th>3</th>\n",
       "      <td>3</td>\n",
       "      <td>2022-09-30 20:05:24+00:00</td>\n",
       "      <td>1575939891485032450</td>\n",
       "      <td>@dell your customer service is horrible especi...</td>\n",
       "      <td>daveccarr</td>\n",
       "      <td>negative</td>\n",
       "      <td>0.954023</td>\n",
       "      <td>anger</td>\n",
       "      <td>0.983203</td>\n",
       "    </tr>\n",
       "    <tr>\n",
       "      <th>4</th>\n",
       "      <td>4</td>\n",
       "      <td>2022-09-30 20:03:17+00:00</td>\n",
       "      <td>1575939359160750080</td>\n",
       "      <td>@zacokalo @Dell @DellCares @Dell give the man ...</td>\n",
       "      <td>heycamella</td>\n",
       "      <td>neutral</td>\n",
       "      <td>0.529170</td>\n",
       "      <td>anger</td>\n",
       "      <td>0.776124</td>\n",
       "    </tr>\n",
       "    <tr>\n",
       "      <th>5</th>\n",
       "      <td>5</td>\n",
       "      <td>2022-09-30 19:49:40+00:00</td>\n",
       "      <td>1575935931969785856</td>\n",
       "      <td>The screenshot is acting up from the website o...</td>\n",
       "      <td>jonathanj92389</td>\n",
       "      <td>negative</td>\n",
       "      <td>0.936235</td>\n",
       "      <td>sadness</td>\n",
       "      <td>0.968651</td>\n",
       "    </tr>\n",
       "    <tr>\n",
       "      <th>6</th>\n",
       "      <td>6</td>\n",
       "      <td>2022-09-30 19:31:57+00:00</td>\n",
       "      <td>1575931475391746048</td>\n",
       "      <td>@emijuju_ @Alienware @Dell @IntelGaming alien ...</td>\n",
       "      <td>diegoaygo</td>\n",
       "      <td>neutral</td>\n",
       "      <td>0.733473</td>\n",
       "      <td>fear</td>\n",
       "      <td>0.370504</td>\n",
       "    </tr>\n",
       "    <tr>\n",
       "      <th>7</th>\n",
       "      <td>7</td>\n",
       "      <td>2022-09-30 19:25:45+00:00</td>\n",
       "      <td>1575929914888421395</td>\n",
       "      <td>COOKING STREAM DAY!!! Ty to @Alienware for spo...</td>\n",
       "      <td>emijuju_</td>\n",
       "      <td>positive</td>\n",
       "      <td>0.974963</td>\n",
       "      <td>joy</td>\n",
       "      <td>0.961772</td>\n",
       "    </tr>\n",
       "    <tr>\n",
       "      <th>8</th>\n",
       "      <td>8</td>\n",
       "      <td>2022-09-30 19:07:30+00:00</td>\n",
       "      <td>1575925320070623232</td>\n",
       "      <td>@emijuju_ @Alienware @Dell @intel Beautiful 😍❤️😻</td>\n",
       "      <td>Khurram38256043</td>\n",
       "      <td>positive</td>\n",
       "      <td>0.974661</td>\n",
       "      <td>joy</td>\n",
       "      <td>0.986383</td>\n",
       "    </tr>\n",
       "    <tr>\n",
       "      <th>9</th>\n",
       "      <td>9</td>\n",
       "      <td>2022-09-30 19:02:37+00:00</td>\n",
       "      <td>1575924090187153416</td>\n",
       "      <td>What's your biggest data management challenge?...</td>\n",
       "      <td>InfoSystems</td>\n",
       "      <td>neutral</td>\n",
       "      <td>0.718806</td>\n",
       "      <td>optimism</td>\n",
       "      <td>0.894296</td>\n",
       "    </tr>\n",
       "  </tbody>\n",
       "</table>\n",
       "</div>"
      ],
      "text/plain": [
       "   Unnamed: 0                   Datetime             Tweet Id  \\\n",
       "0           0  2022-09-30 23:29:15+00:00  1575991191170342912   \n",
       "1           1  2022-09-30 21:46:35+00:00  1575965354425131008   \n",
       "2           2  2022-09-30 21:18:02+00:00  1575958171423752203   \n",
       "3           3  2022-09-30 20:05:24+00:00  1575939891485032450   \n",
       "4           4  2022-09-30 20:03:17+00:00  1575939359160750080   \n",
       "5           5  2022-09-30 19:49:40+00:00  1575935931969785856   \n",
       "6           6  2022-09-30 19:31:57+00:00  1575931475391746048   \n",
       "7           7  2022-09-30 19:25:45+00:00  1575929914888421395   \n",
       "8           8  2022-09-30 19:07:30+00:00  1575925320070623232   \n",
       "9           9  2022-09-30 19:02:37+00:00  1575924090187153416   \n",
       "\n",
       "                                                Text         Username  \\\n",
       "0  @Logitech @apple @Google @Microsoft @Dell @Len...   ManjuSreedaran   \n",
       "1  @MK_habit_addict @official_stier @MortalKombat...       MiKeMcDnet   \n",
       "2  As @CRN celebrates its 40th anniversary, Bob F...         jfollett   \n",
       "3  @dell your customer service is horrible especi...        daveccarr   \n",
       "4  @zacokalo @Dell @DellCares @Dell give the man ...       heycamella   \n",
       "5  The screenshot is acting up from the website o...   jonathanj92389   \n",
       "6  @emijuju_ @Alienware @Dell @IntelGaming alien ...        diegoaygo   \n",
       "7  COOKING STREAM DAY!!! Ty to @Alienware for spo...         emijuju_   \n",
       "8   @emijuju_ @Alienware @Dell @intel Beautiful 😍❤️😻  Khurram38256043   \n",
       "9  What's your biggest data management challenge?...      InfoSystems   \n",
       "\n",
       "  sentiment  sentiment_score       emotion  emotion_score  \n",
       "0   neutral         0.853283  anticipation       0.587121  \n",
       "1   neutral         0.519470           joy       0.886913  \n",
       "2  positive         0.763791           joy       0.960347  \n",
       "3  negative         0.954023         anger       0.983203  \n",
       "4   neutral         0.529170         anger       0.776124  \n",
       "5  negative         0.936235       sadness       0.968651  \n",
       "6   neutral         0.733473          fear       0.370504  \n",
       "7  positive         0.974963           joy       0.961772  \n",
       "8  positive         0.974661           joy       0.986383  \n",
       "9   neutral         0.718806      optimism       0.894296  "
      ]
     },
     "execution_count": 3,
     "metadata": {},
     "output_type": "execute_result"
    }
   ],
   "source": [
    "tweet_data.head(10)"
   ]
  },
  {
   "cell_type": "code",
   "execution_count": 4,
   "id": "66811963-8661-476f-be91-020bb84155ee",
   "metadata": {},
   "outputs": [
    {
     "data": {
      "text/plain": [
       "Index(['4', '3', 'Mon May 11 03:17:40 UTC 2009', 'kindle2', 'tpryan',\n",
       "       '@stellargirl I loooooooovvvvvveee my Kindle2. Not that the DX is cool, but the 2 is fantastic in its own right.'],\n",
       "      dtype='object')"
      ]
     },
     "execution_count": 4,
     "metadata": {},
     "output_type": "execute_result"
    }
   ],
   "source": [
    "tweet_test.columns"
   ]
  },
  {
   "cell_type": "code",
   "execution_count": 5,
   "id": "76f342ed-9f6e-4806-9f5b-d9cff2aec4a7",
   "metadata": {},
   "outputs": [],
   "source": [
    "tweet_test.columns = ['score', 'number', \"date\", \"account\", \"username\",\"text\"] "
   ]
  },
  {
   "cell_type": "markdown",
   "id": "8c9af79c-69c5-4d72-a163-b8f02462c07a",
   "metadata": {},
   "source": [
    "CLEANING DATA AND EPA"
   ]
  },
  {
   "cell_type": "code",
   "execution_count": 6,
   "id": "5c41e65a-e95c-41ad-9c9b-bea0c8b4961f",
   "metadata": {},
   "outputs": [],
   "source": [
    "tweet_data = tweet_data.drop(columns = ['Unnamed: 0', 'Tweet Id'], axis=1)\n",
    "tweet_data['Datetime'] = pd.to_datetime(tweet_data[\"Datetime\"])"
   ]
  },
  {
   "cell_type": "code",
   "execution_count": 7,
   "id": "7291f673-5a23-4dbb-88e1-907603182047",
   "metadata": {},
   "outputs": [
    {
     "data": {
      "text/plain": [
       "Datetime           datetime64[ns, UTC]\n",
       "Text                            object\n",
       "Username                        object\n",
       "sentiment                       object\n",
       "sentiment_score                float64\n",
       "emotion                         object\n",
       "emotion_score                  float64\n",
       "dtype: object"
      ]
     },
     "execution_count": 7,
     "metadata": {},
     "output_type": "execute_result"
    }
   ],
   "source": [
    "tweet_data.dtypes"
   ]
  },
  {
   "cell_type": "code",
   "execution_count": 8,
   "id": "c446a74b-5fc1-4861-8e9f-e37ddd3dca86",
   "metadata": {},
   "outputs": [
    {
     "name": "stdout",
     "output_type": "stream",
     "text": [
      "sentiment\n",
      "negative    10556\n",
      "positive     7366\n",
      "neutral      7048\n",
      "Name: count, dtype: int64\n",
      "emotion\n",
      "anger           7520\n",
      "joy             6326\n",
      "anticipation    5171\n",
      "disgust         3000\n",
      "sadness         1328\n",
      "optimism        1225\n",
      "fear             366\n",
      "surprise          34\n",
      "Name: count, dtype: int64\n"
     ]
    }
   ],
   "source": [
    "print(tweet_data['sentiment'].value_counts())\n",
    "print(tweet_data['emotion'].value_counts())"
   ]
  },
  {
   "cell_type": "code",
   "execution_count": 9,
   "id": "34ee04b2-ad6a-4e01-bea2-8f8d0b4ff243",
   "metadata": {},
   "outputs": [],
   "source": [
    "tweet_data['year'] = tweet_data['Datetime'].dt.year"
   ]
  },
  {
   "cell_type": "code",
   "execution_count": 10,
   "id": "164f949c-9abb-4dd5-8432-bf67e23e0847",
   "metadata": {},
   "outputs": [
    {
     "data": {
      "image/png": "[encoded data removed]",
      "text/plain": [
       "<Figure size 800x500 with 1 Axes>"
      ]
     },
     "metadata": {},
     "output_type": "display_data"
    }
   ],
   "source": [
    "plt.figure(figsize=(8,5))\n",
    "year_sentiment = tweet_data[['year', 'sentiment']].sort_values('year')\n",
    "\n",
    "plot = sns.countplot(data=year_sentiment, x='year', hue='sentiment', width=0.7, palette=['blue', 'yellow', 'red'])\n",
    "plot.legend(title='Year on Year Analysis', labels=['positive', 'neutral', 'negative'])\n",
    "plt.title('Year on Year Report')\n",
    "plt.show()"
   ]
  },
  {
   "cell_type": "code",
   "execution_count": 11,
   "id": "277145fe-3388-4435-8bd1-4e7a82eb4930",
   "metadata": {},
   "outputs": [
    {
     "data": {
      "image/png": "[encoded data removed]",
      "text/plain": [
       "<Figure size 800x500 with 1 Axes>"
      ]
     },
     "metadata": {},
     "output_type": "display_data"
    }
   ],
   "source": [
    "plt.figure(figsize=(8,5))\n",
    "year_emotion = tweet_data[['year', 'emotion']].sort_values('year')\n",
    "\n",
    "plot = sns.countplot(data=year_emotion, x='year', hue='emotion', width=0.7)\n",
    "plot.legend(title='Year on Year Analysis')\n",
    "plt.title('Year on Year Report')\n",
    "plt.show()"
   ]
  },
  {
   "cell_type": "code",
   "execution_count": null,
   "id": "cac5ecf7-0a9e-4f34-8876-c44319f2d75b",
   "metadata": {},
   "outputs": [],
   "source": []
  },
  {
   "cell_type": "code",
   "execution_count": 12,
   "id": "4c5ceeaf-aff8-467a-a6a6-57ff59a02100",
   "metadata": {},
   "outputs": [],
   "source": [
    "sents_map = {\n",
    "    \"negative\":0,\n",
    "    \"positive\": 1\n",
    "}\n",
    "\n",
    "tweet_data['sentiment'] = tweet_data['sentiment'].map(sents_map)"
   ]
  },
  {
   "cell_type": "code",
   "execution_count": 13,
   "id": "7503f997-f476-487e-8e69-363a84dd9d82",
   "metadata": {},
   "outputs": [],
   "source": [
    "tweet_data = tweet_data.dropna()"
   ]
  },
  {
   "cell_type": "code",
   "execution_count": 16,
   "id": "b0d66480-c08b-4e50-9d39-0a22731eced7",
   "metadata": {},
   "outputs": [],
   "source": [
    "good_emotions = ['joy', 'anticipation', 'optimism', 'surprise']\n",
    "\n",
    "tweet_data['emotion'] = tweet_data['emotion'].apply(lambda x: 2 if x in good_emotions else 1)"
   ]
  },
  {
   "cell_type": "raw",
   "id": "0f381528-0d1e-4030-a17f-6cbfe32b766d",
   "metadata": {},
   "source": [
    "emotion_map = {\n",
    "    'anger': 1,\n",
    "    'joy': 2,       \n",
    "    'anticipation': 2,  \n",
    "    'disgust': 1,         \n",
    "    'sadness': 1,\n",
    "    'optimism': 2,       \n",
    "    'fear': 1,            \n",
    "    'surprise': 2 \n",
    "}\n",
    "\n",
    "tweet_data['emotion'] = tweet_data['emotion'].map(emotion_map)"
   ]
  },
  {
   "cell_type": "code",
   "execution_count": 17,
   "id": "2b8f2e42-da3f-492e-acd6-dbdeb1c19a1d",
   "metadata": {},
   "outputs": [],
   "source": [
    "tweet_data['sentiment_weight'] = tweet_data['sentiment'] * tweet_data['sentiment_score']\n",
    "tweet_data['emotion_weight'] = tweet_data['emotion'] * tweet_data['emotion_score']"
   ]
  },
  {
   "cell_type": "code",
   "execution_count": 18,
   "id": "e737552e-836f-4a21-805d-9d1fe71cb428",
   "metadata": {},
   "outputs": [],
   "source": [
    "zero_df  = tweet_data[tweet_data['sentiment'] ==0].sample(n = 5000, random_state=42)\n",
    "\n",
    "one_df = tweet_data[tweet_data['sentiment'] == 1].sample(n=5000, random_state=42)\n",
    "\n",
    "new_df = pd.concat([one_df, zero_df])\n",
    "tweet_data = new_df.sample(frac=1).reset_index(drop=True) "
   ]
  },
  {
   "cell_type": "markdown",
   "id": "5bca0e0a-77c4-41b1-abd5-ae081b87e69c",
   "metadata": {},
   "source": [
    "MODELLING"
   ]
  },
  {
   "cell_type": "code",
   "execution_count": 19,
   "id": "6200ac0a-defd-49b6-b63c-d00e73416dc6",
   "metadata": {},
   "outputs": [],
   "source": [
    "predictors = ['token_vec', 'sentiment_score', \"sentiment_weight\", 'emotion_score', 'emotion_weight']"
   ]
  },
  {
   "cell_type": "code",
   "execution_count": 20,
   "id": "e9b48028-ff40-4c1b-82c9-558bf65390bb",
   "metadata": {},
   "outputs": [
    {
     "data": {
      "text/plain": [
       "sentiment\n",
       "1.0    5000\n",
       "0.0    5000\n",
       "Name: count, dtype: int64"
      ]
     },
     "execution_count": 20,
     "metadata": {},
     "output_type": "execute_result"
    }
   ],
   "source": [
    "tweet_data['sentiment'].value_counts()"
   ]
  },
  {
   "cell_type": "code",
   "execution_count": 21,
   "id": "cb8f1022-0d19-4484-ad7d-ecc7ce065668",
   "metadata": {},
   "outputs": [],
   "source": [
    "def clean_text(text):\n",
    "    return re.sub(r\"[^a-zA-Z ]\", \"\", text)"
   ]
  },
  {
   "cell_type": "code",
   "execution_count": 22,
   "id": "9641ae8d-10a6-4409-9ab6-e3d068c3ad43",
   "metadata": {},
   "outputs": [],
   "source": [
    "tweet_data['Text'] = tweet_data['Text'].apply(clean_text)"
   ]
  },
  {
   "cell_type": "code",
   "execution_count": 23,
   "id": "50aa4ffd-d4a2-4c9c-8195-d8dd3ea9d3cc",
   "metadata": {},
   "outputs": [],
   "source": [
    "from sklearn.neural_network import MLPClassifier\n",
    "from sklearn.svm import LinearSVC\n",
    "from sklearn.ensemble import RandomForestClassifier\n",
    "from sklearn.metrics import precision_score,f1_score\n",
    "from sklearn.model_selection import RandomizedSearchCV, train_test_split\n",
    "from sklearn.feature_extraction.text import TfidfVectorizer"
   ]
  },
  {
   "cell_type": "code",
   "execution_count": null,
   "id": "7ce4ff9d-a443-4536-bab4-dcde0b88f42a",
   "metadata": {},
   "outputs": [],
   "source": [
    "vectorizer = TfidfVectorizer(ngram_range = (1,2))\n",
    "\n",
    "tweet_data['token_vec'] = vectorizer.fit_transform(tweet_data['Text']).toarray()"
   ]
  },
  {
   "cell_type": "raw",
   "id": "23093527-62c5-449f-9749-70efbdfb01fb",
   "metadata": {},
   "source": [
    "CONTINUE ON GOOGLE COLAB"
   ]
  },
  {
   "cell_type": "code",
   "execution_count": null,
   "id": "89953bb8-c5e7-4f0b-ab11-95be5d06ddcf",
   "metadata": {},
   "outputs": [],
   "source": []
  }
 ],
 "metadata": {
  "kernelspec": {
   "display_name": "Python 3 (ipykernel)",
   "language": "python",
   "name": "python3"
  },
  "language_info": {
   "codemirror_mode": {
    "name": "ipython",
    "version": 3
   },
   "file_extension": ".py",
   "mimetype": "text/x-python",
   "name": "python",
   "nbconvert_exporter": "python",
   "pygments_lexer": "ipython3",
   "version": "3.11.2"
  }
 },
 "nbformat": 4,
 "nbformat_minor": 5
}
