{
 "cells": [
  {
   "cell_type": "code",
   "execution_count": 1,
   "id": "9a865cd3-9b16-42f4-aee8-25afa92360e5",
   "metadata": {},
   "outputs": [],
   "source": [
    "import pandas as pd\n",
    "import spacy"
   ]
  },
  {
   "cell_type": "code",
   "execution_count": 2,
   "id": "952a9daa-820d-427b-969a-374414528d90",
   "metadata": {},
   "outputs": [],
   "source": [
    "netflix = pd.read_csv(\"C:/Users/Hp Pc/Downloads/netflix_reviews.csv\")"
   ]
  },
  {
   "cell_type": "code",
   "execution_count": 3,
   "id": "a6e3ae85-065b-4bc4-89a9-19b1fa9bcadd",
   "metadata": {},
   "outputs": [
    {
     "data": {
      "text/html": [
       "<div>\n",
       "<style scoped>\n",
       "    .dataframe tbody tr th:only-of-type {\n",
       "        vertical-align: middle;\n",
       "    }\n",
       "\n",
       "    .dataframe tbody tr th {\n",
       "        vertical-align: top;\n",
       "    }\n",
       "\n",
       "    .dataframe thead th {\n",
       "        text-align: right;\n",
       "    }\n",
       "</style>\n",
       "<table border=\"1\" class=\"dataframe\">\n",
       "  <thead>\n",
       "    <tr style=\"text-align: right;\">\n",
       "      <th></th>\n",
       "      <th>reviewId</th>\n",
       "      <th>userName</th>\n",
       "      <th>content</th>\n",
       "      <th>score</th>\n",
       "      <th>thumbsUpCount</th>\n",
       "      <th>reviewCreatedVersion</th>\n",
       "      <th>at</th>\n",
       "      <th>appVersion</th>\n",
       "    </tr>\n",
       "  </thead>\n",
       "  <tbody>\n",
       "    <tr>\n",
       "      <th>0</th>\n",
       "      <td>011732d9-d4f2-40ae-8c93-51e9e65a77a9</td>\n",
       "      <td>Pravin Pujari</td>\n",
       "      <td>Search and browse content is so pathetic and r...</td>\n",
       "      <td>1</td>\n",
       "      <td>0</td>\n",
       "      <td>8.135.1 build 7 50902</td>\n",
       "      <td>2024-10-13 14:23:55</td>\n",
       "      <td>8.135.1 build 7 50902</td>\n",
       "    </tr>\n",
       "    <tr>\n",
       "      <th>1</th>\n",
       "      <td>7a03facb-7c4d-43e4-9f6d-a8288bcfb1c2</td>\n",
       "      <td>Lunje liya</td>\n",
       "      <td>YOUR A NNNNNNNOOOOOOOOOBBBBBBBB!!!!!!!!!!! 😂😂😂...</td>\n",
       "      <td>5</td>\n",
       "      <td>0</td>\n",
       "      <td>8.92.0 build 8 50533</td>\n",
       "      <td>2024-10-13 14:22:22</td>\n",
       "      <td>8.92.0 build 8 50533</td>\n",
       "    </tr>\n",
       "    <tr>\n",
       "      <th>2</th>\n",
       "      <td>c79d34fa-1b5d-4ee1-8237-07d8041a17d1</td>\n",
       "      <td>Yash Patel</td>\n",
       "      <td>Best watching platform</td>\n",
       "      <td>5</td>\n",
       "      <td>0</td>\n",
       "      <td>NaN</td>\n",
       "      <td>2024-10-13 14:22:05</td>\n",
       "      <td>NaN</td>\n",
       "    </tr>\n",
       "    <tr>\n",
       "      <th>3</th>\n",
       "      <td>f76c20cf-b947-4fe9-8389-3c2b12646f10</td>\n",
       "      <td>Taylor Frantz</td>\n",
       "      <td>I am the account holder, and it keeps saying I...</td>\n",
       "      <td>1</td>\n",
       "      <td>0</td>\n",
       "      <td>8.135.1 build 7 50902</td>\n",
       "      <td>2024-10-13 14:21:41</td>\n",
       "      <td>8.135.1 build 7 50902</td>\n",
       "    </tr>\n",
       "    <tr>\n",
       "      <th>4</th>\n",
       "      <td>17aef5ef-7b78-45fe-993e-0bd20450ccd7</td>\n",
       "      <td>Zia Ramdhary</td>\n",
       "      <td>I Love love it but I don't like the fact that ...</td>\n",
       "      <td>4</td>\n",
       "      <td>0</td>\n",
       "      <td>8.78.0 build 16 50463</td>\n",
       "      <td>2024-10-13 14:16:46</td>\n",
       "      <td>8.78.0 build 16 50463</td>\n",
       "    </tr>\n",
       "    <tr>\n",
       "      <th>...</th>\n",
       "      <td>...</td>\n",
       "      <td>...</td>\n",
       "      <td>...</td>\n",
       "      <td>...</td>\n",
       "      <td>...</td>\n",
       "      <td>...</td>\n",
       "      <td>...</td>\n",
       "      <td>...</td>\n",
       "    </tr>\n",
       "    <tr>\n",
       "      <th>116377</th>\n",
       "      <td>a760ead9-e7aa-4ed1-a651-5c37c3600dac</td>\n",
       "      <td>A Google user</td>\n",
       "      <td>i really like it! there are so many movies and...</td>\n",
       "      <td>5</td>\n",
       "      <td>0</td>\n",
       "      <td>NaN</td>\n",
       "      <td>2019-08-03 15:06:03</td>\n",
       "      <td>NaN</td>\n",
       "    </tr>\n",
       "    <tr>\n",
       "      <th>116378</th>\n",
       "      <td>4957f9e7-d7f4-4a52-9764-031cebcac83f</td>\n",
       "      <td>Captain Jeoy</td>\n",
       "      <td>I love Netflix. I always enjoy my time using it.</td>\n",
       "      <td>5</td>\n",
       "      <td>0</td>\n",
       "      <td>8.34.0 build 4 50250</td>\n",
       "      <td>2022-08-15 16:16:30</td>\n",
       "      <td>8.34.0 build 4 50250</td>\n",
       "    </tr>\n",
       "    <tr>\n",
       "      <th>116379</th>\n",
       "      <td>9acf7586-7abf-4b50-8c50-3ede3b2a42c4</td>\n",
       "      <td>Suryansh</td>\n",
       "      <td>Sound quality is very slow of movies</td>\n",
       "      <td>1</td>\n",
       "      <td>0</td>\n",
       "      <td>NaN</td>\n",
       "      <td>2020-08-17 07:26:58</td>\n",
       "      <td>NaN</td>\n",
       "    </tr>\n",
       "    <tr>\n",
       "      <th>116380</th>\n",
       "      <td>32870f7f-c461-4256-b602-75244ca60248</td>\n",
       "      <td>A Google user</td>\n",
       "      <td>Rate is very expensive.. bcos we see netflix s...</td>\n",
       "      <td>1</td>\n",
       "      <td>0</td>\n",
       "      <td>7.17.0 build 13 34346</td>\n",
       "      <td>2019-07-21 09:41:42</td>\n",
       "      <td>7.17.0 build 13 34346</td>\n",
       "    </tr>\n",
       "    <tr>\n",
       "      <th>116381</th>\n",
       "      <td>dc1352e9-10a8-41ca-ab23-05d045b08e90</td>\n",
       "      <td>suraj soni</td>\n",
       "      <td>this app is awesome for english movies ,series...</td>\n",
       "      <td>4</td>\n",
       "      <td>0</td>\n",
       "      <td>NaN</td>\n",
       "      <td>2020-05-24 11:04:08</td>\n",
       "      <td>NaN</td>\n",
       "    </tr>\n",
       "  </tbody>\n",
       "</table>\n",
       "<p>116382 rows × 8 columns</p>\n",
       "</div>"
      ],
      "text/plain": [
       "                                    reviewId       userName  \\\n",
       "0       011732d9-d4f2-40ae-8c93-51e9e65a77a9  Pravin Pujari   \n",
       "1       7a03facb-7c4d-43e4-9f6d-a8288bcfb1c2     Lunje liya   \n",
       "2       c79d34fa-1b5d-4ee1-8237-07d8041a17d1     Yash Patel   \n",
       "3       f76c20cf-b947-4fe9-8389-3c2b12646f10  Taylor Frantz   \n",
       "4       17aef5ef-7b78-45fe-993e-0bd20450ccd7   Zia Ramdhary   \n",
       "...                                      ...            ...   \n",
       "116377  a760ead9-e7aa-4ed1-a651-5c37c3600dac  A Google user   \n",
       "116378  4957f9e7-d7f4-4a52-9764-031cebcac83f   Captain Jeoy   \n",
       "116379  9acf7586-7abf-4b50-8c50-3ede3b2a42c4       Suryansh   \n",
       "116380  32870f7f-c461-4256-b602-75244ca60248  A Google user   \n",
       "116381  dc1352e9-10a8-41ca-ab23-05d045b08e90     suraj soni   \n",
       "\n",
       "                                                  content  score  \\\n",
       "0       Search and browse content is so pathetic and r...      1   \n",
       "1       YOUR A NNNNNNNOOOOOOOOOBBBBBBBB!!!!!!!!!!! 😂😂😂...      5   \n",
       "2                                  Best watching platform      5   \n",
       "3       I am the account holder, and it keeps saying I...      1   \n",
       "4       I Love love it but I don't like the fact that ...      4   \n",
       "...                                                   ...    ...   \n",
       "116377  i really like it! there are so many movies and...      5   \n",
       "116378   I love Netflix. I always enjoy my time using it.      5   \n",
       "116379               Sound quality is very slow of movies      1   \n",
       "116380  Rate is very expensive.. bcos we see netflix s...      1   \n",
       "116381  this app is awesome for english movies ,series...      4   \n",
       "\n",
       "        thumbsUpCount   reviewCreatedVersion                   at  \\\n",
       "0                   0  8.135.1 build 7 50902  2024-10-13 14:23:55   \n",
       "1                   0   8.92.0 build 8 50533  2024-10-13 14:22:22   \n",
       "2                   0                    NaN  2024-10-13 14:22:05   \n",
       "3                   0  8.135.1 build 7 50902  2024-10-13 14:21:41   \n",
       "4                   0  8.78.0 build 16 50463  2024-10-13 14:16:46   \n",
       "...               ...                    ...                  ...   \n",
       "116377              0                    NaN  2019-08-03 15:06:03   \n",
       "116378              0   8.34.0 build 4 50250  2022-08-15 16:16:30   \n",
       "116379              0                    NaN  2020-08-17 07:26:58   \n",
       "116380              0  7.17.0 build 13 34346  2019-07-21 09:41:42   \n",
       "116381              0                    NaN  2020-05-24 11:04:08   \n",
       "\n",
       "                   appVersion  \n",
       "0       8.135.1 build 7 50902  \n",
       "1        8.92.0 build 8 50533  \n",
       "2                         NaN  \n",
       "3       8.135.1 build 7 50902  \n",
       "4       8.78.0 build 16 50463  \n",
       "...                       ...  \n",
       "116377                    NaN  \n",
       "116378   8.34.0 build 4 50250  \n",
       "116379                    NaN  \n",
       "116380  7.17.0 build 13 34346  \n",
       "116381                    NaN  \n",
       "\n",
       "[116382 rows x 8 columns]"
      ]
     },
     "execution_count": 3,
     "metadata": {},
     "output_type": "execute_result"
    }
   ],
   "source": [
    "netflix"
   ]
  },
  {
   "cell_type": "markdown",
   "id": "a0d81aa9-44f3-47a4-805c-56f1f6811ed0",
   "metadata": {},
   "source": [
    "EDA"
   ]
  },
  {
   "cell_type": "code",
   "execution_count": 4,
   "id": "41940458-f975-48b2-9bbe-3544f797514d",
   "metadata": {},
   "outputs": [
    {
     "data": {
      "text/plain": [
       "reviewId                object\n",
       "userName                object\n",
       "content                 object\n",
       "score                    int64\n",
       "thumbsUpCount            int64\n",
       "reviewCreatedVersion    object\n",
       "at                      object\n",
       "appVersion              object\n",
       "dtype: object"
      ]
     },
     "execution_count": 4,
     "metadata": {},
     "output_type": "execute_result"
    }
   ],
   "source": [
    "netflix.dtypes"
   ]
  },
  {
   "cell_type": "code",
   "execution_count": 5,
   "id": "5c8fa6f8-ac7a-44c4-8d50-98fcf2c59d85",
   "metadata": {},
   "outputs": [],
   "source": [
    "duplicates = netflix[netflix.duplicated()]\n",
    "\n",
    "netflix = netflix.drop(duplicates.index, axis=0)\n",
    "netflix.reset_index(drop=True, inplace=True)"
   ]
  },
  {
   "cell_type": "code",
   "execution_count": 6,
   "id": "2a7aa5af-b3c2-4403-9470-b972c87aac82",
   "metadata": {},
   "outputs": [
    {
     "name": "stdout",
     "output_type": "stream",
     "text": [
      "score\n",
      "1    45566\n",
      "5    33385\n",
      "4    14062\n",
      "3    12122\n",
      "2    10960\n",
      "Name: count, dtype: int64\n"
     ]
    },
    {
     "data": {
      "text/plain": [
       "<Axes: title={'center': 'Rating Distribution'}, xlabel='score'>"
      ]
     },
     "execution_count": 6,
     "metadata": {},
     "output_type": "execute_result"
    },
    {
     "data": {
      "image/png": "[encoded data removed]",
      "text/plain": [
       "<Figure size 640x480 with 1 Axes>"
      ]
     },
     "metadata": {},
     "output_type": "display_data"
    }
   ],
   "source": [
    "score_distribution = netflix['score'].value_counts()\n",
    "\n",
    "print(score_distribution)\n",
    "score_distribution.plot(kind='bar', title = 'Rating Distribution')\n"
   ]
  },
  {
   "cell_type": "code",
   "execution_count": 7,
   "id": "931c89b5-2e9b-4dda-9ccc-c7d62c4d688f",
   "metadata": {},
   "outputs": [
    {
     "data": {
      "text/plain": [
       "<Axes: title={'center': 'Thumbs_Up Count'}, xlabel='thumbsUpCount'>"
      ]
     },
     "execution_count": 7,
     "metadata": {},
     "output_type": "execute_result"
    },
    {
     "data": {
      "image/png": "[encoded data removed]",
      "text/plain": [
       "<Figure size 640x480 with 1 Axes>"
      ]
     },
     "metadata": {},
     "output_type": "display_data"
    }
   ],
   "source": [
    "#so much zero reaction/like to the posts \n",
    "reaction = netflix['thumbsUpCount'].value_counts().head(10)\n",
    "\n",
    "reaction.plot(kind='bar', title = 'Thumbs_Up Count')"
   ]
  },
  {
   "cell_type": "code",
   "execution_count": 8,
   "id": "36508c3e-8c95-4265-a7ec-979d8211642d",
   "metadata": {},
   "outputs": [
    {
     "name": "stdout",
     "output_type": "stream",
     "text": [
      "score\n",
      "1    29135\n",
      "5    26229\n",
      "4    10392\n",
      "3     8332\n",
      "2     6699\n",
      "Name: count, dtype: int64\n"
     ]
    },
    {
     "data": {
      "text/plain": [
       "<Axes: title={'center': 'rating scores during Zero likes'}, xlabel='score'>"
      ]
     },
     "execution_count": 8,
     "metadata": {},
     "output_type": "execute_result"
    },
    {
     "data": {
      "image/png": "[encoded data removed]",
      "text/plain": [
       "<Figure size 640x480 with 1 Axes>"
      ]
     },
     "metadata": {},
     "output_type": "display_data"
    }
   ],
   "source": [
    "#the rating scores during Zero likes\n",
    "\n",
    "rating_zero_reaction = netflix[netflix['thumbsUpCount'] == 0]['score'].value_counts()\n",
    "\n",
    "print(rating_zero_reaction)\n",
    "rating_zero_reaction.plot(kind='bar', title = 'rating scores during Zero likes')"
   ]
  },
  {
   "cell_type": "code",
   "execution_count": 9,
   "id": "bc8d3298-8efd-4eda-9ea2-ec864d39a795",
   "metadata": {},
   "outputs": [],
   "source": [
    "netflix['at'] = pd.to_datetime(netflix['at'])"
   ]
  },
  {
   "cell_type": "code",
   "execution_count": 10,
   "id": "52d73c1e-8bad-4e28-ad6a-59d67fb99e22",
   "metadata": {},
   "outputs": [],
   "source": [
    "netflix['year'] = netflix['at'].dt.year\n",
    "netflix['month'] = netflix['at'].dt.month"
   ]
  },
  {
   "cell_type": "code",
   "execution_count": 11,
   "id": "c0875fe1-e391-4612-b272-deffd1e90ff0",
   "metadata": {},
   "outputs": [],
   "source": [
    "import matplotlib.pyplot as plt"
   ]
  },
  {
   "cell_type": "code",
   "execution_count": 12,
   "id": "20d84a6c-0526-4461-b435-362cf61ccbbc",
   "metadata": {},
   "outputs": [
    {
     "data": {
      "text/plain": [
       "<BarContainer object of 116095 artists>"
      ]
     },
     "execution_count": 12,
     "metadata": {},
     "output_type": "execute_result"
    },
    {
     "data": {
      "image/png": "[encoded data removed]",
      "text/plain": [
       "<Figure size 640x480 with 1 Axes>"
      ]
     },
     "metadata": {},
     "output_type": "display_data"
    }
   ],
   "source": [
    "plt.bar(x=netflix['year'], height=netflix['score'])"
   ]
  },
  {
   "cell_type": "code",
   "execution_count": 13,
   "id": "9ee408d2-1eb0-42aa-aae4-ee7a92843808",
   "metadata": {},
   "outputs": [],
   "source": [
    "netflix = netflix[['content', 'at', 'year', 'month', 'score', 'thumbsUpCount']]"
   ]
  },
  {
   "cell_type": "code",
   "execution_count": 14,
   "id": "6beb694a-77b5-4d4c-b1b0-55857bcd1a01",
   "metadata": {},
   "outputs": [
    {
     "data": {
      "text/plain": [
       "content          2\n",
       "at               0\n",
       "year             0\n",
       "month            0\n",
       "score            0\n",
       "thumbsUpCount    0\n",
       "dtype: int64"
      ]
     },
     "execution_count": 14,
     "metadata": {},
     "output_type": "execute_result"
    }
   ],
   "source": [
    "netflix.isnull().sum()"
   ]
  },
  {
   "cell_type": "code",
   "execution_count": 15,
   "id": "c7807bbe-e755-4ddc-8de7-16421b99531b",
   "metadata": {},
   "outputs": [],
   "source": [
    "netflix = netflix[~netflix['content'].isnull()]"
   ]
  },
  {
   "cell_type": "code",
   "execution_count": 16,
   "id": "0611c4ca-60be-43ef-a364-e2c8c4fb552e",
   "metadata": {},
   "outputs": [],
   "source": [
    "def Emotion(rating):\n",
    "    if rating <= 2:\n",
    "        return 0\n",
    "    else:\n",
    "        return 1\n",
    "\n",
    "\n",
    "netflix['class'] = netflix['score'].apply(Emotion)"
   ]
  },
  {
   "cell_type": "code",
   "execution_count": 17,
   "id": "54f27e94-a7ad-4234-a6da-99439720042c",
   "metadata": {},
   "outputs": [
    {
     "data": {
      "text/html": [
       "<div>\n",
       "<style scoped>\n",
       "    .dataframe tbody tr th:only-of-type {\n",
       "        vertical-align: middle;\n",
       "    }\n",
       "\n",
       "    .dataframe tbody tr th {\n",
       "        vertical-align: top;\n",
       "    }\n",
       "\n",
       "    .dataframe thead th {\n",
       "        text-align: right;\n",
       "    }\n",
       "</style>\n",
       "<table border=\"1\" class=\"dataframe\">\n",
       "  <thead>\n",
       "    <tr style=\"text-align: right;\">\n",
       "      <th></th>\n",
       "      <th>content</th>\n",
       "      <th>at</th>\n",
       "      <th>year</th>\n",
       "      <th>month</th>\n",
       "      <th>score</th>\n",
       "      <th>thumbsUpCount</th>\n",
       "      <th>class</th>\n",
       "    </tr>\n",
       "  </thead>\n",
       "  <tbody>\n",
       "    <tr>\n",
       "      <th>112708</th>\n",
       "      <td>Pay more and get ads for games.</td>\n",
       "      <td>2023-09-13 04:42:07</td>\n",
       "      <td>2023</td>\n",
       "      <td>9</td>\n",
       "      <td>1</td>\n",
       "      <td>0</td>\n",
       "      <td>0</td>\n",
       "    </tr>\n",
       "    <tr>\n",
       "      <th>14127</th>\n",
       "      <td>its very good for entertainment find movies yo...</td>\n",
       "      <td>2024-02-17 16:20:40</td>\n",
       "      <td>2024</td>\n",
       "      <td>2</td>\n",
       "      <td>5</td>\n",
       "      <td>0</td>\n",
       "      <td>1</td>\n",
       "    </tr>\n",
       "    <tr>\n",
       "      <th>24847</th>\n",
       "      <td>For some reason the app keeps signing me out, ...</td>\n",
       "      <td>2023-03-31 14:44:24</td>\n",
       "      <td>2023</td>\n",
       "      <td>3</td>\n",
       "      <td>2</td>\n",
       "      <td>8</td>\n",
       "      <td>0</td>\n",
       "    </tr>\n",
       "    <tr>\n",
       "      <th>100287</th>\n",
       "      <td>I'm not able to playback in hd in redmi note 1...</td>\n",
       "      <td>2023-09-22 18:38:30</td>\n",
       "      <td>2023</td>\n",
       "      <td>9</td>\n",
       "      <td>3</td>\n",
       "      <td>0</td>\n",
       "      <td>1</td>\n",
       "    </tr>\n",
       "    <tr>\n",
       "      <th>94783</th>\n",
       "      <td>Very bad. Please don't download waste your mb ...</td>\n",
       "      <td>2024-02-06 07:54:20</td>\n",
       "      <td>2024</td>\n",
       "      <td>2</td>\n",
       "      <td>1</td>\n",
       "      <td>0</td>\n",
       "      <td>0</td>\n",
       "    </tr>\n",
       "  </tbody>\n",
       "</table>\n",
       "</div>"
      ],
      "text/plain": [
       "                                                  content                  at  \\\n",
       "112708                    Pay more and get ads for games. 2023-09-13 04:42:07   \n",
       "14127   its very good for entertainment find movies yo... 2024-02-17 16:20:40   \n",
       "24847   For some reason the app keeps signing me out, ... 2023-03-31 14:44:24   \n",
       "100287  I'm not able to playback in hd in redmi note 1... 2023-09-22 18:38:30   \n",
       "94783   Very bad. Please don't download waste your mb ... 2024-02-06 07:54:20   \n",
       "\n",
       "        year  month  score  thumbsUpCount  class  \n",
       "112708  2023      9      1              0      0  \n",
       "14127   2024      2      5              0      1  \n",
       "24847   2023      3      2              8      0  \n",
       "100287  2023      9      3              0      1  \n",
       "94783   2024      2      1              0      0  "
      ]
     },
     "execution_count": 17,
     "metadata": {},
     "output_type": "execute_result"
    }
   ],
   "source": [
    "netflix.sample(5)"
   ]
  },
  {
   "cell_type": "code",
   "execution_count": 20,
   "id": "2e14eaf3-a05d-4743-a49b-6df3bd8d4b4b",
   "metadata": {},
   "outputs": [
    {
     "data": {
      "image/png": "[encoded data removed]",
      "text/plain": [
       "<Figure size 1500x1000 with 1 Axes>"
      ]
     },
     "metadata": {},
     "output_type": "display_data"
    }
   ],
   "source": [
    "import seaborn as sns\n",
    "\n",
    "plt.figure(figsize=(15,10))\n",
    "year_emotion = netflix[['year', 'class']].sort_values('year')\n",
    "\n",
    "plot = sns.countplot(data=year_emotion, x='year', hue='class', width=0.7, palette=['blue', 'yellow'])\n",
    "plot.legend(title='Year on Year Analysis', labels=['Happy', 'Sad'])\n",
    "plt.title('Year on Year Report')\n",
    "plt.show()\n",
    "\n",
    "#2020 report skyrocketed due to Covid-19"
   ]
  },
  {
   "cell_type": "code",
   "execution_count": null,
   "id": "04a72d0d-c4fa-4beb-839c-9911031eeaf2",
   "metadata": {},
   "outputs": [],
   "source": []
  }
 ],
 "metadata": {
  "kernelspec": {
   "display_name": "Python 3 (ipykernel)",
   "language": "python",
   "name": "python3"
  },
  "language_info": {
   "codemirror_mode": {
    "name": "ipython",
    "version": 3
   },
   "file_extension": ".py",
   "mimetype": "text/x-python",
   "name": "python",
   "nbconvert_exporter": "python",
   "pygments_lexer": "ipython3",
   "version": "3.11.2"
  }
 },
 "nbformat": 4,
 "nbformat_minor": 5
}
